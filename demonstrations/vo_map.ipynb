{
 "cells": [
  {
   "cell_type": "code",
   "execution_count": 2,
   "id": "05918d75",
   "metadata": {},
   "outputs": [],
   "source": [
    "import sys\n",
    "import os\n",
    "import open3d as o3d\n",
    "import numpy as np\n",
    "\n",
    "SCRIPT_DIR = os.getcwd()\n",
    "REPO_DIR = os.path.dirname(SCRIPT_DIR)\n",
    "sys.path.append(REPO_DIR)\n",
    "\n",
    "from utils import FileManager\n",
    "from frame import Frame\n",
    "from visualizer import generic_o3d_vis\n",
    "from world import World\n",
    "\n",
    "\n",
    "RUN_DIR_PATH = os.path.join(REPO_DIR, \"sample_data\", \"run_01\")\n",
    "\n",
    "if __name__ == \"__main__\":\n",
    "    fm = FileManager(RUN_DIR_PATH)\n",
    "    world = World()\n",
    "\n",
    "    start_img_idx = 330\n",
    "    end_img_idx = start_img_idx + 15\n",
    "\n",
    "    global_pcd = o3d.geometry.PointCloud()\n",
    "\n",
    "\n",
    "    for idx, pair in enumerate(fm.paired_files[start_img_idx:end_img_idx], start=0):\n",
    "        frame = Frame(\n",
    "            frame_idx=idx,\n",
    "            depth_path=pair.depth_path,\n",
    "            color_path=pair.color_path,\n",
    "            raw_timestamp=pair.raw_timestamp,\n",
    "            recording_time_str=pair.recording_time_str\n",
    "        )\n",
    "        world.add_frame(frame)\n",
    "\n",
    "        pcd = frame._filter_pixels(199, 149).create_depth_corrected_pcd()\n",
    "        pcd.transform(frame.pose)\n",
    "        global_pcd += pcd\n",
    "\n",
    "    generic_o3d_vis(global_pcd)\n",
    "\n"
   ]
  }
 ],
 "metadata": {
  "kernelspec": {
   "display_name": ".venv",
   "language": "python",
   "name": "python3"
  },
  "language_info": {
   "codemirror_mode": {
    "name": "ipython",
    "version": 3
   },
   "file_extension": ".py",
   "mimetype": "text/x-python",
   "name": "python",
   "nbconvert_exporter": "python",
   "pygments_lexer": "ipython3",
   "version": "3.12.3"
  }
 },
 "nbformat": 4,
 "nbformat_minor": 5
}
