{
 "cells": [
  {
   "cell_type": "code",
   "execution_count": null,
   "id": "1a3a6d6d",
   "metadata": {},
   "outputs": [],
   "source": [
    "import sys\n",
    "import os\n",
    "import numpy as np\n",
    "import open3d as o3d\n",
    "\n",
    "SCRIPT_DIR = os.getcwd()\n",
    "REPO_DIR = os.path.dirname(SCRIPT_DIR)\n",
    "sys.path.append(REPO_DIR)\n",
    "\n",
    "from utils import FileManager, fit_circle_to_pcd\n",
    "from frame import Frame\n",
    "from visualizer import ImageVisualizer, generic_o3d_vis\n",
    "\n",
    "RUN_DIR_PATH = os.path.join(REPO_DIR, \"sample_data\", \"run_01\")\n",
    "\n",
    "if __name__ == \"__main__\":\n",
    "    fm = FileManager(RUN_DIR_PATH)\n",
    "    imgvis = ImageVisualizer()\n",
    "\n",
    "    idx = 0\n",
    "\n",
    "    pair = fm.get_pair(idx)\n",
    "    frame = Frame(\n",
    "        frame_idx=idx,\n",
    "        depth_path=pair.depth_path,\n",
    "        color_path=pair.color_path,\n",
    "        raw_timestamp=pair.raw_timestamp,\n",
    "        recording_time_str=pair.recording_time_str\n",
    "    )"
   ]
  },
  {
   "cell_type": "code",
   "execution_count": null,
   "id": "280f19a1",
   "metadata": {},
   "outputs": [],
   "source": [
    "# Visualize raw depth and color images\n",
    "imgvis.depth(frame.raw_depth_img)\n",
    "imgvis.color(frame.color_img)\n"
   ]
  },
  {
   "cell_type": "code",
   "execution_count": null,
   "id": "fb9f44d4",
   "metadata": {},
   "outputs": [],
   "source": [
    "# Visualize raw point cloud data\n",
    "raw_pcd = frame.all_pixels.create_raw_pcd()\n",
    "generic_o3d_vis(raw_pcd)"
   ]
  },
  {
   "cell_type": "code",
   "execution_count": null,
   "id": "fbd0c6b4",
   "metadata": {},
   "outputs": [],
   "source": [
    "# Visualize the systemic depth error\n",
    "pixels = frame.all_pixels\n",
    "raw_depth = pixels.create_raw_depth_img()\n",
    "\n",
    "bin_size = 25\n",
    "min_depth = np.min(raw_depth[raw_depth > 0])\n",
    "max_depth = np.max(raw_depth)\n",
    "bin_edges = np.arange(min_depth, max_depth + bin_size, bin_size)\n",
    "\n",
    "for i in range(0, len(bin_edges) - 1):\n",
    "    bin_min = bin_edges[i]\n",
    "    bin_max = bin_edges[i + 1]\n",
    "    bin_pixels = pixels.get_pixels_in_range_raw_depth(bin_min, bin_max)\n",
    "    bin_img = bin_pixels.create_raw_depth_img()\n",
    "    imgvis.depth(bin_img)"
   ]
  },
  {
   "cell_type": "code",
   "execution_count": null,
   "id": "ac446fff",
   "metadata": {},
   "outputs": [],
   "source": [
    "# Visualize the raw depth image (foreground pixels)\n",
    "fg_img = frame.all_pixels.get_foreground_pixels().create_raw_depth_img()\n",
    "imgvis.depth(fg_img)"
   ]
  },
  {
   "cell_type": "code",
   "execution_count": null,
   "id": "b4083357",
   "metadata": {},
   "outputs": [],
   "source": [
    "# Visualize the raw point cloud data (foreground pixels)\n",
    "fg_pcd = frame.all_pixels.get_foreground_pixels().create_raw_pcd()\n",
    "generic_o3d_vis(fg_pcd)"
   ]
  },
  {
   "cell_type": "code",
   "execution_count": null,
   "id": "aa6bc635",
   "metadata": {},
   "outputs": [],
   "source": [
    "# Visualize the raw depth image (background pixels)\n",
    "bg_img = frame.all_pixels.get_background_pixels().create_raw_depth_img()\n",
    "imgvis.depth(bg_img)"
   ]
  },
  {
   "cell_type": "code",
   "execution_count": null,
   "id": "7cc3faa1",
   "metadata": {},
   "outputs": [],
   "source": [
    "# Visualize the raw point cloud data (foreground pixels)\n",
    "bg_pcd = frame.all_pixels.get_background_pixels().create_raw_pcd()\n",
    "generic_o3d_vis(bg_pcd)"
   ]
  },
  {
   "cell_type": "code",
   "execution_count": null,
   "id": "fc47b54c",
   "metadata": {},
   "outputs": [],
   "source": [
    "# Visualize the corrected depth image\n",
    "depth_corrected_depth_img = frame.all_pixels.create_depth_corrected_depth_img()\n",
    "imgvis.depth_corrected(depth_corrected_depth_img)"
   ]
  },
  {
   "cell_type": "code",
   "execution_count": null,
   "id": "a4fa0162",
   "metadata": {},
   "outputs": [],
   "source": [
    "# Visualize the depth image with corrected and filtered pixels\n",
    "filtered_pixels = frame._filter_pixels(0, 0)\n",
    "\n",
    "depth_corrected_depth_img = filtered_pixels.create_depth_corrected_depth_img()\n",
    "imgvis.depth_corrected(depth_corrected_depth_img)"
   ]
  },
  {
   "cell_type": "code",
   "execution_count": null,
   "id": "7ab27b82",
   "metadata": {},
   "outputs": [],
   "source": [
    "# Visualize the filtered point cloud with depth correction applied\n",
    "filtered_pcd = frame._filter_pixels(100, 100).create_depth_corrected_pcd()\n",
    "generic_o3d_vis(filtered_pcd)"
   ]
  },
  {
   "cell_type": "code",
   "execution_count": null,
   "id": "367a7ca1",
   "metadata": {},
   "outputs": [],
   "source": [
    "# Visualize the filtered depth-corrected point cloud and the fitted circles for each bin\n",
    "pixels = frame._filter_pixels(199, 149)\n",
    "depth_corrected_img = pixels.create_depth_corrected_depth_img()\n",
    "\n",
    "bin_size = 5\n",
    "min_depth = np.min(depth_corrected_img[depth_corrected_img > 0])\n",
    "max_depth = np.max(depth_corrected_img)\n",
    "bin_edges = np.arange(min_depth, max_depth + bin_size, bin_size)\n",
    "\n",
    "geometries = []\n",
    "centers = []\n",
    "\n",
    "for i in range(0, len(bin_edges) - 1):\n",
    "    bin_min = bin_edges[i]\n",
    "    bin_max = bin_edges[i + 1]\n",
    "    bin_pixels = pixels.get_pixels_in_range_corrected_depth(bin_min, bin_max)\n",
    "    bin_depth_img = bin_pixels.create_depth_corrected_depth_img()\n",
    "    bin_pcd = bin_pixels.create_depth_corrected_pcd()\n",
    "\n",
    "    if len(bin_pcd.points) == 0:\n",
    "        continue\n",
    "\n",
    "    geometries.append(bin_pcd)\n",
    "\n",
    "    center, radius, mean_depth = fit_circle_to_pcd(bin_pcd)\n",
    "\n",
    "    if center is not None and radius is not None and mean_depth is not None:\n",
    "        centers.append([center[0], center[1], mean_depth])\n",
    "\n",
    "        num_circle_points = 36\n",
    "        angles = np.linspace(0, 2*np.pi, num_circle_points, endpoint=False)\n",
    "        x = center[0] + radius * np.cos(angles)\n",
    "        y = center[1] + radius * np.sin(angles)\n",
    "        z = np.full_like(x, mean_depth)\n",
    "        circle_points = np.vstack((x, y, z)).T\n",
    "\n",
    "        lines = []\n",
    "        for j in range(num_circle_points):\n",
    "            lines.append([j, (j+1)%num_circle_points])\n",
    "\n",
    "        circle_lineset = o3d.geometry.LineSet(\n",
    "            points=o3d.utility.Vector3dVector(circle_points),\n",
    "            lines=o3d.utility.Vector2iVector(lines)\n",
    "        )\n",
    "        circle_lineset.paint_uniform_color([1, 0, 0])\n",
    "        geometries.append(circle_lineset)\n",
    "\n",
    "if len(centers) >= 2:\n",
    "    centers_points = o3d.utility.Vector3dVector(centers)\n",
    "    lines = [[i, i+1] for i in range(len(centers)-1)]\n",
    "\n",
    "    center_line = o3d.geometry.LineSet(\n",
    "        points=centers_points,\n",
    "        lines=o3d.utility.Vector2iVector(lines)\n",
    "    )\n",
    "    center_line.paint_uniform_color([0, 0, 1])\n",
    "    geometries.append(center_line)\n",
    "\n",
    "generic_o3d_vis(geometries)\n"
   ]
  }
 ],
 "metadata": {
  "kernelspec": {
   "display_name": ".venv",
   "language": "python",
   "name": "python3"
  },
  "language_info": {
   "codemirror_mode": {
    "name": "ipython",
    "version": 3
   },
   "file_extension": ".py",
   "mimetype": "text/x-python",
   "name": "python",
   "nbconvert_exporter": "python",
   "pygments_lexer": "ipython3",
   "version": "3.12.3"
  }
 },
 "nbformat": 4,
 "nbformat_minor": 5
}
